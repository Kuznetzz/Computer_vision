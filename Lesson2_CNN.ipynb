{
  "nbformat": 4,
  "nbformat_minor": 0,
  "metadata": {
    "colab": {
      "name": "Lesson2_CNN.ipynb",
      "provenance": [],
      "collapsed_sections": []
    },
    "kernelspec": {
      "name": "python3",
      "display_name": "Python 3"
    },
    "accelerator": "GPU"
  },
  "cells": [
    {
      "cell_type": "markdown",
      "metadata": {
        "id": "5V6dvKN-EAEu",
        "colab_type": "text"
      },
      "source": [
        "# Домашняя работа.\n",
        "### Свёрточные нейронные сети (СНС)\n",
        "\n",
        "\n",
        "\n",
        "\n",
        "\n"
      ]
    },
    {
      "cell_type": "code",
      "metadata": {
        "id": "tjNlvwxHFnI2",
        "colab_type": "code",
        "colab": {
          "base_uri": "https://localhost:8080/",
          "height": 35
        },
        "outputId": "5b44c19b-40fc-47f5-ec89-e29765dcd5c6"
      },
      "source": [
        "from tensorflow.python.client import device_lib\n",
        "str(device_lib.list_local_devices()[-1]).split('\\n')[-2]"
      ],
      "execution_count": 1,
      "outputs": [
        {
          "output_type": "execute_result",
          "data": {
            "text/plain": [
              "'physical_device_desc: \"device: 0, name: Tesla K80, pci bus id: 0000:00:04.0, compute capability: 3.7\"'"
            ]
          },
          "metadata": {
            "tags": []
          },
          "execution_count": 1
        }
      ]
    },
    {
      "cell_type": "code",
      "metadata": {
        "id": "kQNTmhij8Y-m",
        "colab_type": "code",
        "outputId": "287e2b29-2d7f-46da-b6a2-2fe1fa49286f",
        "colab": {
          "base_uri": "https://localhost:8080/",
          "height": 35
        }
      },
      "source": [
        "import tensorflow as tf\n",
        "from tensorflow.keras import datasets,layers,models,optimizers\n",
        "from tensorflow.keras.preprocessing.image import ImageDataGenerator\n",
        "import numpy as np\n",
        "import matplotlib.pyplot as plt\n",
        "tf.__version__"
      ],
      "execution_count": 2,
      "outputs": [
        {
          "output_type": "execute_result",
          "data": {
            "text/plain": [
              "'2.2.0'"
            ]
          },
          "metadata": {
            "tags": []
          },
          "execution_count": 2
        }
      ]
    },
    {
      "cell_type": "code",
      "metadata": {
        "id": "yhFt9p2o4BLk",
        "colab_type": "code",
        "colab": {}
      },
      "source": [
        "IMG_CHANNELS = 3 \n",
        "IMG_ROWS, IMG_COLS = 32, 32\n",
        "CLASSES = 10\n",
        "\n",
        "EPOCHS = 50\n",
        "BATCH_SIZE = 128\n",
        "VERBOSE = 1\n",
        "OPTIMIZER = tf.keras.optimizers.Adam()\n",
        "VALIDATION_SPLIT=0.2\n"
      ],
      "execution_count": 0,
      "outputs": []
    },
    {
      "cell_type": "code",
      "metadata": {
        "id": "G4LYwUAE9WaV",
        "colab_type": "code",
        "outputId": "f0925ad0-1320-4500-e34d-487560ea5fbf",
        "colab": {
          "base_uri": "https://localhost:8080/",
          "height": 35
        }
      },
      "source": [
        "def load_data():\n",
        "    (x_train, y_train), (x_test, y_test) = datasets.cifar10.load_data()\n",
        "    x_train = x_train.astype('float32')\n",
        "    x_test = x_test.astype('float32')\n",
        " \n",
        "    #normalize \n",
        "    mean = np.mean(x_train,axis=(0,1,2,3))\n",
        "    std = np.std(x_train,axis=(0,1,2,3))\n",
        "    x_train = (x_train-mean)/(std+1e-7)\n",
        "    x_test = (x_test-mean)/(std+1e-7)\n",
        " \n",
        "    y_train =  tf.keras.utils.to_categorical(y_train,CLASSES)\n",
        "    y_test =  tf.keras.utils.to_categorical(y_test,CLASSES)\n",
        "\n",
        "    return x_train, y_train, x_test, y_test\n",
        "\n",
        "(X_train, y_train, X_test, y_test) = load_data()\n",
        "print(X_train.shape,y_train.shape,X_test.shape,y_test.shape)"
      ],
      "execution_count": 4,
      "outputs": [
        {
          "output_type": "stream",
          "text": [
            "(50000, 32, 32, 3) (50000, 10) (10000, 32, 32, 3) (10000, 10)\n"
          ],
          "name": "stdout"
        }
      ]
    },
    {
      "cell_type": "code",
      "metadata": {
        "id": "Qr8ASG94zFzN",
        "colab_type": "code",
        "colab": {}
      },
      "source": [
        "def build_model(): \n",
        "    model = models.Sequential()\n",
        "    \n",
        "    #1st blocl\n",
        "    model.add(layers.Conv2D(32, (3,3), padding='same', \n",
        "        input_shape=X_train.shape[1:], activation='relu'))\n",
        "    model.add(layers.BatchNormalization())\n",
        "    model.add(layers.Conv2D(32, (3,3), padding='same', activation='relu'))\n",
        "    model.add(layers.BatchNormalization())\n",
        "    model.add(layers.MaxPooling2D(pool_size=(2,2)))\n",
        "    model.add(layers.Dropout(0.2))\n",
        "\n",
        "    #2nd block\n",
        "    model.add(layers.Conv2D(64, (3,3), padding='same', activation='relu'))\n",
        "    model.add(layers.BatchNormalization())\n",
        "    model.add(layers.Conv2D(64, (3,3), padding='same', activation='relu'))\n",
        "    model.add(layers.BatchNormalization())\n",
        "    model.add(layers.MaxPooling2D(pool_size=(2,2)))\n",
        "    model.add(layers.Dropout(0.3))\n",
        "\n",
        "    #3d block \n",
        "    model.add(layers.Conv2D(128, (3,3), padding='same', activation='relu'))\n",
        "    model.add(layers.BatchNormalization())\n",
        "    model.add(layers.Conv2D(128, (3,3), padding='same', activation='relu'))\n",
        "    model.add(layers.BatchNormalization())\n",
        "    model.add(layers.MaxPooling2D(pool_size=(2,2)))\n",
        "    model.add(layers.Dropout(0.4))\n",
        "\n",
        "    #dense  \n",
        "    model.add(layers.Flatten())\n",
        "    model.add(layers.Dense(CLASSES, activation='softmax'))\n",
        "    return model"
      ],
      "execution_count": 0,
      "outputs": []
    },
    {
      "cell_type": "code",
      "metadata": {
        "id": "F1CZqbo9_ai7",
        "colab_type": "code",
        "outputId": "86f2ce76-e7a4-4659-a222-21004bac7af6",
        "colab": {
          "base_uri": "https://localhost:8080/",
          "height": 849
        }
      },
      "source": [
        "model = build_model()\n",
        "model.compile(loss=\"categorical_crossentropy\", optimizer=OPTIMIZER,\n",
        "\tmetrics=[\"accuracy\"])\n",
        "model.summary()"
      ],
      "execution_count": 6,
      "outputs": [
        {
          "output_type": "stream",
          "text": [
            "Model: \"sequential\"\n",
            "_________________________________________________________________\n",
            "Layer (type)                 Output Shape              Param #   \n",
            "=================================================================\n",
            "conv2d (Conv2D)              (None, 32, 32, 32)        896       \n",
            "_________________________________________________________________\n",
            "batch_normalization (BatchNo (None, 32, 32, 32)        128       \n",
            "_________________________________________________________________\n",
            "conv2d_1 (Conv2D)            (None, 32, 32, 32)        9248      \n",
            "_________________________________________________________________\n",
            "batch_normalization_1 (Batch (None, 32, 32, 32)        128       \n",
            "_________________________________________________________________\n",
            "max_pooling2d (MaxPooling2D) (None, 16, 16, 32)        0         \n",
            "_________________________________________________________________\n",
            "dropout (Dropout)            (None, 16, 16, 32)        0         \n",
            "_________________________________________________________________\n",
            "conv2d_2 (Conv2D)            (None, 16, 16, 64)        18496     \n",
            "_________________________________________________________________\n",
            "batch_normalization_2 (Batch (None, 16, 16, 64)        256       \n",
            "_________________________________________________________________\n",
            "conv2d_3 (Conv2D)            (None, 16, 16, 64)        36928     \n",
            "_________________________________________________________________\n",
            "batch_normalization_3 (Batch (None, 16, 16, 64)        256       \n",
            "_________________________________________________________________\n",
            "max_pooling2d_1 (MaxPooling2 (None, 8, 8, 64)          0         \n",
            "_________________________________________________________________\n",
            "dropout_1 (Dropout)          (None, 8, 8, 64)          0         \n",
            "_________________________________________________________________\n",
            "conv2d_4 (Conv2D)            (None, 8, 8, 128)         73856     \n",
            "_________________________________________________________________\n",
            "batch_normalization_4 (Batch (None, 8, 8, 128)         512       \n",
            "_________________________________________________________________\n",
            "conv2d_5 (Conv2D)            (None, 8, 8, 128)         147584    \n",
            "_________________________________________________________________\n",
            "batch_normalization_5 (Batch (None, 8, 8, 128)         512       \n",
            "_________________________________________________________________\n",
            "max_pooling2d_2 (MaxPooling2 (None, 4, 4, 128)         0         \n",
            "_________________________________________________________________\n",
            "dropout_2 (Dropout)          (None, 4, 4, 128)         0         \n",
            "_________________________________________________________________\n",
            "flatten (Flatten)            (None, 2048)              0         \n",
            "_________________________________________________________________\n",
            "dense (Dense)                (None, 10)                20490     \n",
            "=================================================================\n",
            "Total params: 309,290\n",
            "Trainable params: 308,394\n",
            "Non-trainable params: 896\n",
            "_________________________________________________________________\n"
          ],
          "name": "stdout"
        }
      ]
    },
    {
      "cell_type": "code",
      "metadata": {
        "id": "2cr_p9XzxhSP",
        "colab_type": "code",
        "colab": {}
      },
      "source": [
        "#image augmentation\n",
        "datagen = ImageDataGenerator(\n",
        "      rotation_range=30,\n",
        "      width_shift_range=0.2,\n",
        "      height_shift_range=0.2,\n",
        "      horizontal_flip=True)\n",
        "datagen.fit(X_train)"
      ],
      "execution_count": 0,
      "outputs": []
    },
    {
      "cell_type": "code",
      "metadata": {
        "id": "MN39X9gi_alw",
        "colab_type": "code",
        "colab": {}
      },
      "source": [
        "callbacks = [\n",
        "  tf.keras.callbacks.EarlyStopping(monitor='val_accuracy', patience=15,min_delta=0.00001)\n",
        "]"
      ],
      "execution_count": 0,
      "outputs": []
    },
    {
      "cell_type": "code",
      "metadata": {
        "id": "2aviKsyU_aoU",
        "colab_type": "code",
        "outputId": "5e0cbb2c-b25b-4857-c2fd-eeb23d59619d",
        "colab": {
          "base_uri": "https://localhost:8080/",
          "height": 1000
        }
      },
      "source": [
        "history = model.fit(datagen.flow(X_train, y_train, batch_size=BATCH_SIZE),\n",
        "            steps_per_epoch=int(np.ceil(X_train.shape[0] / float(BATCH_SIZE))),\n",
        "            epochs=EPOCHS,\n",
        "            verbose=VERBOSE,\n",
        "\t\t\tvalidation_data=(X_test,y_test))\n",
        "\n",
        "score = model.evaluate(X_test, y_test, verbose=VERBOSE)\n",
        "print(\"\\nTest score:\", score[0])\n",
        "print('Test accuracy:', score[1])"
      ],
      "execution_count": 9,
      "outputs": [
        {
          "output_type": "stream",
          "text": [
            "Epoch 1/50\n",
            "391/391 [==============================] - 38s 98ms/step - loss: 2.0942 - accuracy: 0.3491 - val_loss: 1.6182 - val_accuracy: 0.4297\n",
            "Epoch 2/50\n",
            "391/391 [==============================] - 37s 96ms/step - loss: 1.5808 - accuracy: 0.4642 - val_loss: 1.4410 - val_accuracy: 0.5201\n",
            "Epoch 3/50\n",
            "391/391 [==============================] - 39s 99ms/step - loss: 1.4012 - accuracy: 0.5247 - val_loss: 1.1706 - val_accuracy: 0.6112\n",
            "Epoch 4/50\n",
            "391/391 [==============================] - 39s 99ms/step - loss: 1.2794 - accuracy: 0.5640 - val_loss: 1.2990 - val_accuracy: 0.5757\n",
            "Epoch 5/50\n",
            "391/391 [==============================] - 39s 100ms/step - loss: 1.1819 - accuracy: 0.5954 - val_loss: 1.0866 - val_accuracy: 0.6458\n",
            "Epoch 6/50\n",
            "391/391 [==============================] - 39s 100ms/step - loss: 1.0972 - accuracy: 0.6223 - val_loss: 1.0117 - val_accuracy: 0.6578\n",
            "Epoch 7/50\n",
            "391/391 [==============================] - 39s 99ms/step - loss: 1.0149 - accuracy: 0.6499 - val_loss: 0.8823 - val_accuracy: 0.7078\n",
            "Epoch 8/50\n",
            "391/391 [==============================] - 38s 98ms/step - loss: 0.9677 - accuracy: 0.6653 - val_loss: 0.8893 - val_accuracy: 0.7088\n",
            "Epoch 9/50\n",
            "391/391 [==============================] - 38s 98ms/step - loss: 0.9279 - accuracy: 0.6802 - val_loss: 0.8726 - val_accuracy: 0.7115\n",
            "Epoch 10/50\n",
            "391/391 [==============================] - 38s 97ms/step - loss: 0.8834 - accuracy: 0.6926 - val_loss: 0.8571 - val_accuracy: 0.7242\n",
            "Epoch 11/50\n",
            "391/391 [==============================] - 38s 98ms/step - loss: 0.8529 - accuracy: 0.7018 - val_loss: 0.7964 - val_accuracy: 0.7341\n",
            "Epoch 12/50\n",
            "391/391 [==============================] - 38s 97ms/step - loss: 0.8245 - accuracy: 0.7125 - val_loss: 0.7042 - val_accuracy: 0.7690\n",
            "Epoch 13/50\n",
            "391/391 [==============================] - 38s 96ms/step - loss: 0.8025 - accuracy: 0.7211 - val_loss: 0.7932 - val_accuracy: 0.7334\n",
            "Epoch 14/50\n",
            "391/391 [==============================] - 37s 96ms/step - loss: 0.7811 - accuracy: 0.7289 - val_loss: 0.7375 - val_accuracy: 0.7584\n",
            "Epoch 15/50\n",
            "391/391 [==============================] - 38s 97ms/step - loss: 0.7625 - accuracy: 0.7349 - val_loss: 0.8345 - val_accuracy: 0.7317\n",
            "Epoch 16/50\n",
            "391/391 [==============================] - 38s 96ms/step - loss: 0.7467 - accuracy: 0.7418 - val_loss: 0.6945 - val_accuracy: 0.7701\n",
            "Epoch 17/50\n",
            "391/391 [==============================] - 38s 96ms/step - loss: 0.7328 - accuracy: 0.7473 - val_loss: 0.7052 - val_accuracy: 0.7725\n",
            "Epoch 18/50\n",
            "391/391 [==============================] - 38s 97ms/step - loss: 0.7201 - accuracy: 0.7505 - val_loss: 0.6647 - val_accuracy: 0.7845\n",
            "Epoch 19/50\n",
            "391/391 [==============================] - 38s 98ms/step - loss: 0.7065 - accuracy: 0.7549 - val_loss: 0.6370 - val_accuracy: 0.7864\n",
            "Epoch 20/50\n",
            "391/391 [==============================] - 38s 97ms/step - loss: 0.6931 - accuracy: 0.7589 - val_loss: 0.7567 - val_accuracy: 0.7629\n",
            "Epoch 21/50\n",
            "391/391 [==============================] - 38s 97ms/step - loss: 0.6875 - accuracy: 0.7603 - val_loss: 0.6640 - val_accuracy: 0.7856\n",
            "Epoch 22/50\n",
            "391/391 [==============================] - 38s 97ms/step - loss: 0.6714 - accuracy: 0.7652 - val_loss: 0.5897 - val_accuracy: 0.8013\n",
            "Epoch 23/50\n",
            "391/391 [==============================] - 38s 98ms/step - loss: 0.6620 - accuracy: 0.7697 - val_loss: 0.5760 - val_accuracy: 0.8095\n",
            "Epoch 24/50\n",
            "391/391 [==============================] - 38s 98ms/step - loss: 0.6544 - accuracy: 0.7727 - val_loss: 0.6102 - val_accuracy: 0.8023\n",
            "Epoch 25/50\n",
            "391/391 [==============================] - 38s 98ms/step - loss: 0.6427 - accuracy: 0.7754 - val_loss: 0.6950 - val_accuracy: 0.7771\n",
            "Epoch 26/50\n",
            "391/391 [==============================] - 38s 97ms/step - loss: 0.6359 - accuracy: 0.7795 - val_loss: 0.5846 - val_accuracy: 0.8114\n",
            "Epoch 27/50\n",
            "391/391 [==============================] - 38s 97ms/step - loss: 0.6299 - accuracy: 0.7804 - val_loss: 0.6554 - val_accuracy: 0.7916\n",
            "Epoch 28/50\n",
            "391/391 [==============================] - 38s 97ms/step - loss: 0.6216 - accuracy: 0.7838 - val_loss: 0.6026 - val_accuracy: 0.8040\n",
            "Epoch 29/50\n",
            "391/391 [==============================] - 37s 95ms/step - loss: 0.6165 - accuracy: 0.7858 - val_loss: 0.5847 - val_accuracy: 0.8100\n",
            "Epoch 30/50\n",
            "391/391 [==============================] - 37s 95ms/step - loss: 0.6083 - accuracy: 0.7876 - val_loss: 0.5664 - val_accuracy: 0.8199\n",
            "Epoch 31/50\n",
            "391/391 [==============================] - 38s 97ms/step - loss: 0.6013 - accuracy: 0.7898 - val_loss: 0.5266 - val_accuracy: 0.8255\n",
            "Epoch 32/50\n",
            "391/391 [==============================] - 37s 95ms/step - loss: 0.5973 - accuracy: 0.7916 - val_loss: 0.5346 - val_accuracy: 0.8264\n",
            "Epoch 33/50\n",
            "391/391 [==============================] - 37s 95ms/step - loss: 0.5863 - accuracy: 0.7960 - val_loss: 0.5460 - val_accuracy: 0.8208\n",
            "Epoch 34/50\n",
            "391/391 [==============================] - 37s 94ms/step - loss: 0.5901 - accuracy: 0.7954 - val_loss: 0.5192 - val_accuracy: 0.8317\n",
            "Epoch 35/50\n",
            "391/391 [==============================] - 37s 94ms/step - loss: 0.5724 - accuracy: 0.8017 - val_loss: 0.5674 - val_accuracy: 0.8214\n",
            "Epoch 36/50\n",
            "391/391 [==============================] - 36s 93ms/step - loss: 0.5787 - accuracy: 0.7979 - val_loss: 0.5860 - val_accuracy: 0.8165\n",
            "Epoch 37/50\n",
            "391/391 [==============================] - 36s 93ms/step - loss: 0.5729 - accuracy: 0.8016 - val_loss: 0.6286 - val_accuracy: 0.7990\n",
            "Epoch 38/50\n",
            "391/391 [==============================] - 36s 93ms/step - loss: 0.5701 - accuracy: 0.8013 - val_loss: 0.4980 - val_accuracy: 0.8361\n",
            "Epoch 39/50\n",
            "391/391 [==============================] - 37s 93ms/step - loss: 0.5621 - accuracy: 0.8048 - val_loss: 0.5267 - val_accuracy: 0.8319\n",
            "Epoch 40/50\n",
            "391/391 [==============================] - 37s 95ms/step - loss: 0.5582 - accuracy: 0.8063 - val_loss: 0.5960 - val_accuracy: 0.8107\n",
            "Epoch 41/50\n",
            "391/391 [==============================] - 38s 96ms/step - loss: 0.5516 - accuracy: 0.8080 - val_loss: 0.5345 - val_accuracy: 0.8250\n",
            "Epoch 42/50\n",
            "391/391 [==============================] - 38s 97ms/step - loss: 0.5489 - accuracy: 0.8085 - val_loss: 0.5830 - val_accuracy: 0.8180\n",
            "Epoch 43/50\n",
            "391/391 [==============================] - 38s 97ms/step - loss: 0.5515 - accuracy: 0.8070 - val_loss: 0.5445 - val_accuracy: 0.8215\n",
            "Epoch 44/50\n",
            "391/391 [==============================] - 38s 97ms/step - loss: 0.5444 - accuracy: 0.8105 - val_loss: 0.5522 - val_accuracy: 0.8243\n",
            "Epoch 45/50\n",
            "391/391 [==============================] - 38s 98ms/step - loss: 0.5440 - accuracy: 0.8115 - val_loss: 0.5216 - val_accuracy: 0.8345\n",
            "Epoch 46/50\n",
            "391/391 [==============================] - 38s 97ms/step - loss: 0.5383 - accuracy: 0.8112 - val_loss: 0.5351 - val_accuracy: 0.8255\n",
            "Epoch 47/50\n",
            "391/391 [==============================] - 38s 97ms/step - loss: 0.5284 - accuracy: 0.8159 - val_loss: 0.5504 - val_accuracy: 0.8224\n",
            "Epoch 48/50\n",
            "391/391 [==============================] - 38s 98ms/step - loss: 0.5356 - accuracy: 0.8144 - val_loss: 0.5005 - val_accuracy: 0.8350\n",
            "Epoch 49/50\n",
            "391/391 [==============================] - 38s 97ms/step - loss: 0.5291 - accuracy: 0.8147 - val_loss: 0.5896 - val_accuracy: 0.8163\n",
            "Epoch 50/50\n",
            "391/391 [==============================] - 38s 97ms/step - loss: 0.5281 - accuracy: 0.8167 - val_loss: 0.4943 - val_accuracy: 0.8366\n",
            "313/313 [==============================] - 2s 6ms/step - loss: 0.4943 - accuracy: 0.8366\n",
            "\n",
            "Test score: 0.4943177103996277\n",
            "Test accuracy: 0.8366000056266785\n"
          ],
          "name": "stdout"
        }
      ]
    },
    {
      "cell_type": "code",
      "metadata": {
        "id": "Svn5t9Qq_aq7",
        "colab_type": "code",
        "colab": {
          "base_uri": "https://localhost:8080/",
          "height": 265
        },
        "outputId": "c357be91-120a-4344-da4b-7cd146af1b11"
      },
      "source": [
        "plt.plot(history.history['accuracy'],c = 'red')\n",
        "plt.plot(history.history['val_accuracy'],c = 'blue');"
      ],
      "execution_count": 10,
      "outputs": [
        {
          "output_type": "display_data",
          "data": {
            "image/png": "[encoded data removed]",
            "text/plain": [
              "<Figure size 432x288 with 1 Axes>"
            ]
          },
          "metadata": {
            "tags": [],
            "needs_background": "light"
          }
        }
      ]
    },
    {
      "cell_type": "code",
      "metadata": {
        "id": "OHSPDptF-Chf",
        "colab_type": "code",
        "colab": {}
      },
      "source": [
        ""
      ],
      "execution_count": 0,
      "outputs": []
    },
    {
      "cell_type": "code",
      "metadata": {
        "id": "oYywiik1-Cj9",
        "colab_type": "code",
        "colab": {}
      },
      "source": [
        ""
      ],
      "execution_count": 0,
      "outputs": []
    },
    {
      "cell_type": "code",
      "metadata": {
        "id": "UELSy3Ct-Cmu",
        "colab_type": "code",
        "colab": {}
      },
      "source": [
        ""
      ],
      "execution_count": 0,
      "outputs": []
    },
    {
      "cell_type": "code",
      "metadata": {
        "id": "HSpc_XPq-Crd",
        "colab_type": "code",
        "colab": {}
      },
      "source": [
        ""
      ],
      "execution_count": 0,
      "outputs": []
    }
  ]
}